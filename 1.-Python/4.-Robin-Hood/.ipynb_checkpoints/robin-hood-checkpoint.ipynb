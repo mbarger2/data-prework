{
 "cells": [
  {
   "cell_type": "markdown",
   "metadata": {},
   "source": [
    "<img src=\"https://bit.ly/2VnXWr2\" width=\"100\" align=\"left\"/>"
   ]
  },
  {
   "cell_type": "markdown",
   "metadata": {},
   "source": [
    "# Robin Hood\n",
    "Robin Hood has entered a competition to win the archery contest in Sherwood. With his bow and arrows, he needs to shoot on a target and try to hit as close as possible to the center.\n",
    "\n",
    "![](images/arrows.jpg)\n",
    "\n",
    "## Context\n",
    "In this challenge, the landing position of arrows shot by archers in the competition will be represented using 2-dimensional coordinates. \n",
    "\n",
    "In the 2-dimensional space, a point can be defined by a pair of values that correspond to the horizontal coordinate (x) and the vertical coordinate (y). For example, in our case, an arrow that hits the center of the archery target will land in position (0, 0) on the coordinate axes. \n",
    "\n",
    "The space can be divided into 4 zones (quadrants): Q1, Q2, Q3, Q4. If a point is in Q1, both its x coordinate and y coordinate are positive. Any point with a null x or y coordinate is considered to not belong to any quadrant. \n",
    "\n",
    "If you want to know more about the cartesian coordinate system, you can check this [link](https://en.wikipedia.org/wiki/Cartesian_coordinate_system). \n",
    "\n",
    "## Tools\n",
    "You don't necessarily need to use all the tools. Maybe you opt to use some of them or completely different ones, they are given to help you shape the exercise. Programming exercises can be solved in many different ways.\n",
    "* Data structures: **lists, sets, tuples**\n",
    "* Conditional statements: **if-elif-else**\n",
    "* Loop: **while/for**\n",
    "* Minimum (optional sorting)\n",
    "\n",
    "## Tasks\n",
    "Robin Hood has hit the following points:"
   ]
  },
  {
   "cell_type": "code",
   "execution_count": 1,
   "metadata": {},
   "outputs": [],
   "source": [
    "points = [(4, 5), (-0, 2), (4, 7), (1, -3), (3, -2), (4, 5), (3, 2), (5, 7), (-5, 7), (2, 2), (-4, 5), (0, -2),\n",
    "          (-4, 7), (-1, 3), (-3, 2), (-4, -5), (-3, 2), (5, 7), (5, 7), (2, 2), (9, 9), (-8, -9)]"
   ]
  },
  {
   "cell_type": "markdown",
   "metadata": {},
   "source": [
    "#### 1. Robin Hood is famous for hitting an arrow with another arrow. Find the coordinates of the points where an arrow hits another arrow."
   ]
  },
  {
   "cell_type": "code",
   "execution_count": 2,
   "metadata": {},
   "outputs": [
    {
     "name": "stdout",
     "output_type": "stream",
     "text": [
      "{(-3, 2), (4, 5), (5, 7), (2, 2)}\n"
     ]
    }
   ],
   "source": [
    "split = []\n",
    "a=0\n",
    "b=0\n",
    "arrows = len(points)\n",
    "points2 = list.copy(points)\n",
    "while a < arrows:\n",
    "    b = 0\n",
    "    while b <= a :\n",
    "        if((a != b) & ((points[a]) == (points2[b]))):\n",
    "            split.append(points[a])\n",
    "            b+=1\n",
    "        else:\n",
    "            b+=1\n",
    "    a+=1\n",
    "unique_split = set(split)\n",
    "print(unique_split)"
   ]
  },
  {
   "cell_type": "markdown",
   "metadata": {},
   "source": [
    "#### 2. Calculate how many arrows have fallen in each quadrant. \n",
    "**Note**: the arrows that fall in the axis (x=0 or y=0) don't belong to any quadrant."
   ]
  },
  {
   "cell_type": "code",
   "execution_count": 3,
   "metadata": {},
   "outputs": [
    {
     "name": "stdout",
     "output_type": "stream",
     "text": [
      "Quadrant 1 has 10 arrows, quadrant 2 has 6 arrows, quadrant 3 has 2 arrows, quadrant 4 has 2 arrows, and 2 arrows hit the axes.\n"
     ]
    }
   ],
   "source": [
    "q1 = 0\n",
    "q2 = 0\n",
    "q3 = 0\n",
    "q4 = 0\n",
    "nullshots = 0\n",
    "for line in points:\n",
    "    x = line[0]\n",
    "    y = line[1]\n",
    "    if((x>0) & (y>0)):\n",
    "        q1 +=1\n",
    "    elif((x<0) & (y>0)):\n",
    "        q2 +=1\n",
    "    elif((x<0) & (y<0)):\n",
    "        q3 +=1\n",
    "    elif((x>0) & (y<0)):\n",
    "        q4 +=1\n",
    "    else:\n",
    "        nullshots+=1\n",
    "print(\"Quadrant 1 has\",q1,\"arrows, quadrant 2 has\",q2,\"arrows, quadrant 3 has\",q3,\"arrows, quadrant 4 has\",q4,\"arrows, and\",nullshots,\"arrows hit the axes.\")\n"
   ]
  },
  {
   "cell_type": "markdown",
   "metadata": {},
   "source": [
    "#### 3. Find the point closest to the center. Calculate its distance to the center. \n",
    "Take into account that there might be more than one point at the minimum distance to the center.\n",
    "\n",
    "**Hint**: Use the Euclidean distance. You can find more information about it [here](https://en.wikipedia.org/wiki/Euclidean_distance).  \n",
    "**Hint**: Defining a function that calculates the distance to the center can help."
   ]
  },
  {
   "cell_type": "code",
   "execution_count": 5,
   "metadata": {
    "scrolled": true
   },
   "outputs": [
    {
     "name": "stdout",
     "output_type": "stream",
     "text": [
      "The arrow closest to the center is located at {(0, -2)} and is 2.0 units from the center.\n"
     ]
    }
   ],
   "source": [
    "closest = []\n",
    "arrows = len(points)\n",
    "def euc(x):\n",
    "    return (((points[x][0])**2)+((points[x][1])**2))**0.5\n",
    "a=0\n",
    "while a < arrows:\n",
    "    if(a == 0):\n",
    "        current_length = euc(a)\n",
    "        closest.append(points[a])\n",
    "        a+=1\n",
    "    else: \n",
    "        next_length = euc(a)\n",
    "        if(next_length == current_length):\n",
    "            closest.append(points[a])\n",
    "        elif(next_length < current_length):\n",
    "            current_length = next_length\n",
    "            closest = [points[a]]\n",
    "    a+=1\n",
    "unique_closest = set(closest)\n",
    "print(\"The arrow closest to the center is located at\",unique_closest,\"and is\",current_length,\"units from the center.\")\n",
    "\n"
   ]
  },
  {
   "cell_type": "markdown",
   "metadata": {},
   "source": [
    "#### 4. If the archery target has a radius of 9, calculate the number of arrows that won't hit the target. \n",
    "**Hint**: Use the function created in step 3. "
   ]
  },
  {
   "cell_type": "code",
   "execution_count": 7,
   "metadata": {},
   "outputs": [
    {
     "name": "stdout",
     "output_type": "stream",
     "text": [
      "2 arrows would miss a target with a radius of 9 units. 20\n"
     ]
    }
   ],
   "source": [
    "missed = 0\n",
    "hit = 0\n",
    "radius = 9\n",
    "for line in points:\n",
    "    euclidean = ((line[0])**2+(line[1])**2)**0.5\n",
    "    if(euclidean > radius):\n",
    "        missed += 1\n",
    "    else:\n",
    "        hit += 1\n",
    "print(missed,\"arrows would miss a target with a radius of\",radius,\"units.\")"
   ]
  },
  {
   "cell_type": "code",
   "execution_count": null,
   "metadata": {},
   "outputs": [],
   "source": []
  }
 ],
 "metadata": {
  "kernelspec": {
   "display_name": "Python 3",
   "language": "python",
   "name": "python3"
  },
  "language_info": {
   "codemirror_mode": {
    "name": "ipython",
    "version": 3
   },
   "file_extension": ".py",
   "mimetype": "text/x-python",
   "name": "python",
   "nbconvert_exporter": "python",
   "pygments_lexer": "ipython3",
   "version": "3.8.3"
  }
 },
 "nbformat": 4,
 "nbformat_minor": 2
}
