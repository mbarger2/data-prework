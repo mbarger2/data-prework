{
 "cells": [
  {
   "cell_type": "markdown",
   "metadata": {},
   "source": [
    "<img src=\"https://bit.ly/2VnXWr2\" width=\"100\" align=\"left\">"
   ]
  },
  {
   "cell_type": "markdown",
   "metadata": {},
   "source": [
    "# Rock, Paper & Scissors\n",
    "\n",
    "Let's play the famous game against our computer. You can check the rules [here](https://en.wikipedia.org/wiki/Rock%E2%80%93paper%E2%80%93scissors). \n",
    "\n",
    "## Task\n",
    "Create a program that imitates the playability of the well known game of rock, paper, scissors. Follow the guidelines provided.\n",
    "\n",
    "## Tools\n",
    "1. Loop: **for/while**\n",
    "2. Functions: **input(), print()...**\n",
    "3. Conditional statements: **if, elif, else**\n",
    "4. Definition of functions. Modular programming\n",
    "5. Import modules\n",
    "\n",
    "**To solve this challenge, the use of functions is recommended.**\n",
    "\n",
    "#### 1. Import the choice function of the random module."
   ]
  },
  {
   "cell_type": "code",
   "execution_count": 17,
   "metadata": {},
   "outputs": [],
   "source": [
    "import random"
   ]
  },
  {
   "cell_type": "markdown",
   "metadata": {},
   "source": [
    "#### 2. Create a list that includes the 3 possible gesture options of the game: 'rock', 'paper' or 'scissors'. Store the list in a variable called `gestures`."
   ]
  },
  {
   "cell_type": "code",
   "execution_count": 18,
   "metadata": {},
   "outputs": [],
   "source": [
    "gestures = ['rock','paper','scissors']"
   ]
  },
  {
   "cell_type": "markdown",
   "metadata": {},
   "source": [
    "#### 3. Create a variable called `n_rounds` to store the maximum number of rounds to play in a game. \n",
    "Remember that the number of rounds must be odd: 1, 3, 5, ..."
   ]
  },
  {
   "cell_type": "code",
   "execution_count": 19,
   "metadata": {},
   "outputs": [],
   "source": [
    "n_rounds = 5"
   ]
  },
  {
   "cell_type": "markdown",
   "metadata": {},
   "source": [
    "#### 4. Create a variable called `rounds_to_win` to store the number of rounds that a player must win to win the game.\n",
    "**Hint**: the value stored in `rounds_to_win` depends on the value of `n_rounds`. "
   ]
  },
  {
   "cell_type": "code",
   "execution_count": 20,
   "metadata": {},
   "outputs": [],
   "source": [
    "rounds_to_win = int(n_rounds/2)+1"
   ]
  },
  {
   "cell_type": "markdown",
   "metadata": {},
   "source": [
    "#### 5. Create two variables to store the number of rounds that the computer and the player have won. Call these variables `cpu_score` and `player_score`."
   ]
  },
  {
   "cell_type": "code",
   "execution_count": 21,
   "metadata": {},
   "outputs": [],
   "source": [
    "cpu_wins = 0\n",
    "player_wins = 0"
   ]
  },
  {
   "cell_type": "markdown",
   "metadata": {},
   "source": [
    "#### 6. Define a function that randomly returns one of the 3 gesture options.\n",
    "You will use this function to simulate the gesture choice of the computer. "
   ]
  },
  {
   "cell_type": "code",
   "execution_count": 22,
   "metadata": {},
   "outputs": [],
   "source": [
    "cpu_move = random.choice(gestures)"
   ]
  },
  {
   "cell_type": "markdown",
   "metadata": {},
   "source": [
    "#### 7. Define a function that asks the player which is the gesture he or she wants to show: 'rock', 'paper' or 'scissors'.\n",
    "The player should only be allowed to choose one of the 3 gesture options. If the player's choice is not rock, paper or scissors, keep asking until it is."
   ]
  },
  {
   "cell_type": "code",
   "execution_count": 9,
   "metadata": {},
   "outputs": [
    {
     "name": "stdout",
     "output_type": "stream",
     "text": [
      "Enter choice of rock, paper, or scissors:paper\n"
     ]
    }
   ],
   "source": [
    "player_choice = input(\"Enter choice of rock, paper, or scissors:\")\n",
    "player_choice.lower()\n",
    "player_move = player_choice\n",
    "moves = {'cpu':cpu_move,'player':player_move}\n",
    "if(player_choice != 'scissors') & (player_choice != 'paper') & (player_choice != 'rock'):\n",
    "    player_choice = input(\"You may only choose between rock, paper, or scissors:\")"
   ]
  },
  {
   "cell_type": "markdown",
   "metadata": {},
   "source": [
    "#### 8. Define a function that checks who won a round. \n",
    "The function should return 0 if there is a tie, 1 if the computer wins and 2 if the player wins."
   ]
  },
  {
   "cell_type": "code",
   "execution_count": 14,
   "metadata": {},
   "outputs": [
    {
     "name": "stdout",
     "output_type": "stream",
     "text": [
      "0\n"
     ]
    }
   ],
   "source": [
    "if((moves['cpu']) == (moves['player'])):\n",
    "    outcome = 'no one'\n",
    "    print(\"0\")\n",
    "elif(('paper' in moves.values()) == ('rock' in moves.values())):\n",
    "    if((moves['cpu']) == ('paper')):\n",
    "        print(\"1\")\n",
    "        cpu_wins += 1\n",
    "        outcome = 'cpu'\n",
    "    else:\n",
    "        player_wins += 1\n",
    "        outcome = 'player'\n",
    "        print(\"2\")\n",
    "elif(('scissors' in moves.values()) == ('rock' in moves.values())):\n",
    "    if((moves['cpu']) == ('rock')):\n",
    "        cpu_wins += 1\n",
    "        outcome = 'cpu'\n",
    "        print(\"1\")\n",
    "    else:\n",
    "            player_wins += 1\n",
    "            outcome = 'player'\n",
    "            print(\"2\")\n",
    "elif(('scissors' in moves.values()) == ('paper' in moves.values())):\n",
    "    if((moves['cpu']) == ('scissors')):\n",
    "        cpu_wins += 1\n",
    "        outcome = 'cpu'\n",
    "        print(\"1\")\n",
    "    else:\n",
    "        player_wins += 1\n",
    "        outcome = 'player'\n",
    "        print(\"2\")\n"
   ]
  },
  {
   "cell_type": "markdown",
   "metadata": {},
   "source": [
    "#### 9. Define a function that prints the choice of the computer, the choice of the player and a message that announces who won the current round. \n",
    "You should also use this function to update the variables that count the number of rounds that the computer and the player have won. The score of the winner increases by one point. If there is a tie, the score does not increase."
   ]
  },
  {
   "cell_type": "code",
   "execution_count": 15,
   "metadata": {},
   "outputs": [
    {
     "name": "stdout",
     "output_type": "stream",
     "text": [
      "CPU chooses paper and the player chooses paper : noone wins.\n"
     ]
    }
   ],
   "source": [
    "print(\"CPU chooses\",cpu_move,\"and the player chooses\",player_move,\":\",outcome,\"wins.\")"
   ]
  },
  {
   "cell_type": "markdown",
   "metadata": {},
   "source": [
    "#### 10. Now it's time to code the execution of the game using the functions and variables you defined above. \n",
    "\n",
    "First, create a loop structure that repeats while no player reaches the minimum score necessary to win and the number of rounds is less than the maximum number of rounds to play in a game.  \n",
    "\n",
    "Inside the loop, use the functions and variables above to create the execution of a round: ask for the player's choice, generate the random choice of the computer, show the round results, update the scores, etc. "
   ]
  },
  {
   "cell_type": "code",
   "execution_count": 23,
   "metadata": {},
   "outputs": [
    {
     "name": "stdout",
     "output_type": "stream",
     "text": [
      "Enter choice of rock, paper, scissors:pape\n",
      "You may only choose between rock, paper, or scissors:p\n",
      "You may only choose between rock, paper, or scissors:paper\n",
      "CPU chooses scissors and the player chooses paper CPU wins!\n",
      "Enter choice of rock, paper, scissors:scissors\n",
      "CPU chooses scissors and the player chooses scissors It's a tie!\n",
      "Enter choice of rock, paper, scissors:rock\n",
      "CPU chooses scissors and the player chooses rock Player wins!\n",
      "Enter choice of rock, paper, scissors:rock\n",
      "CPU chooses scissors and the player chooses rock Player wins!\n",
      "Enter choice of rock, paper, scissors:paper\n",
      "CPU chooses paper and the player chooses paper It's a tie!\n",
      "Enter choice of rock, paper, scissors:paper\n",
      "CPU chooses scissors and the player chooses paper CPU wins!\n",
      "Enter choice of rock, paper, scissors:paper\n",
      "CPU chooses scissors and the player chooses paper CPU wins!\n"
     ]
    }
   ],
   "source": [
    "while((player_wins < rounds_to_win) & (cpu_wins < rounds_to_win)):\n",
    "    cpu_move = random.choice(gestures)\n",
    "    player_move = input(\"Enter choice of rock, paper, scissors:\")\n",
    "    while(player_move != 'scissors') & (player_move != 'paper') & (player_move != 'rock'):\n",
    "        player_move = input(\"You may only choose between rock, paper, or scissors:\")\n",
    "    player_move = player_move.lower()\n",
    "    moves = {'cpu':cpu_move,'player':player_move}\n",
    "    if((moves['cpu']) == (moves['player'])):\n",
    "            print(\"CPU chooses\",cpu_move,\"and the player chooses\",player_move,\"It's a tie!\")\n",
    "    elif(('paper' in moves.values()) == ('rock' in moves.values()) == True):\n",
    "        if((moves['cpu']) == ('paper')):\n",
    "            cpu_wins += 1\n",
    "            print(\"CPU chooses\",cpu_move,\"and the player chooses\",player_move,\"CPU wins!\")\n",
    "        else:\n",
    "            player_wins += 1\n",
    "            print(\"CPU chooses\",cpu_move,\"and the player chooses\",player_move,\"Player wins!\")\n",
    "    elif(('scissors' in moves.values()) == ('rock' in moves.values()) == True):\n",
    "        if((moves['cpu']) == ('rock')):\n",
    "            cpu_wins += 1\n",
    "            print(\"CPU chooses\",cpu_move,\"and the player chooses\",player_move,\"CPU wins!\")\n",
    "        else:\n",
    "            player_wins += 1\n",
    "            print(\"CPU chooses\",cpu_move,\"and the player chooses\",player_move,\"Player wins!\")\n",
    "    elif(('scissors' in moves.values()) == ('paper' in moves.values())):\n",
    "        if((moves['cpu']) == ('scissors')):\n",
    "            cpu_wins += 1\n",
    "            print(\"CPU chooses\",cpu_move,\"and the player chooses\",player_move,\"CPU wins!\")\n",
    "        else:\n",
    "            player_wins += 1\n",
    "            print(\"CPU chooses\",cpu_move,\"and the player chooses\",player_move,\"Player wins!\")\n",
    "    else:\n",
    "            break"
   ]
  },
  {
   "cell_type": "markdown",
   "metadata": {},
   "source": [
    "#### 11. Print the winner of the game based on who won more rounds.\n",
    "Remember that the game might be tied. "
   ]
  },
  {
   "cell_type": "code",
   "execution_count": 24,
   "metadata": {},
   "outputs": [
    {
     "name": "stdout",
     "output_type": "stream",
     "text": [
      "CPU wins 3 - 2\n"
     ]
    }
   ],
   "source": [
    "#My loops do not allow a game to be tied. A round is played again if there is a tie\n",
    "if(cpu_wins == rounds_to_win):\n",
    "    print(\"CPU wins\",cpu_wins,\"-\",player_wins)\n",
    "else:\n",
    "    print(\"You win\",player_wins,\"-\",cpu_wins)"
   ]
  },
  {
   "cell_type": "markdown",
   "metadata": {},
   "source": [
    "# Bonus: Rock, Paper, Scissors, Lizard & Spock\n",
    "![](images/rpsls.jpg)\n",
    "\n",
    "In this challenge, you need to improve the previous game by adding two new options. To know more about the rules of the improved version of rock, paper, scissors, check this [link](http://www.samkass.com/theories/RPSSL.html). \n",
    "\n",
    "In addition, you will also need to improve how the game interacts with the player: the number of rounds to play, which must be an odd number, will be requested to the user until a valid number is entered. Define a new function to make that request.\n",
    "\n",
    "import random**Hint**: Try to reuse the code that you already coded in the previous challenge. If your code is efficient, this bonus will only consist of simple modifications to the original game."
   ]
  },
  {
   "cell_type": "code",
   "execution_count": 25,
   "metadata": {
    "scrolled": true
   },
   "outputs": [
    {
     "name": "stdout",
     "output_type": "stream",
     "text": [
      "Enter choice of rock, paper, scissors, lizard or spock:spock\n",
      "CPU chooses rock and the player chooses spock . Player wins!\n",
      "Enter choice of rock, paper, scissors, lizard or spock:rock\n",
      "CPU chooses paper and the player chooses rock . CPU wins!\n",
      "Enter choice of rock, paper, scissors, lizard or spock:paper\n",
      "CPU chooses paper and the player chooses paper . It's a tie!\n",
      "Enter choice of rock, paper, scissors, lizard or spock:paper\n",
      "CPU chooses spock and the player chooses paper . Player wins!\n",
      "Enter choice of rock, paper, scissors, lizard or spock:spock\n",
      "CPU chooses spock and the player chooses spock . It's a tie!\n",
      "Enter choice of rock, paper, scissors, lizard or spock:spock\n",
      "CPU chooses spock and the player chooses spock . It's a tie!\n",
      "Enter choice of rock, paper, scissors, lizard or spock:spock\n",
      "CPU chooses scissors and the player chooses spock . Player wins!\n",
      "You win 3 - 1\n"
     ]
    }
   ],
   "source": [
    "import random\n",
    "n_rounds = 5\n",
    "rounds_to_win = int(n_rounds/2)+1\n",
    "cpu_wins = 0\n",
    "player_wins = 0\n",
    "gestures = ['rock','paper','scissors','lizard','spock']\n",
    "all_moves = {'scissors':1,'spock':2,'lizard':3,'rock':4,'paper':5}\n",
    "top = len(all_moves)\n",
    "while((player_wins < rounds_to_win) & (cpu_wins < rounds_to_win)):\n",
    "    cpu_move = random.choice(gestures)\n",
    "    player_move = input(\"Enter choice of rock, paper, scissors, lizard or spock:\")\n",
    "    while(player_move != 'scissors') & (player_move != 'paper') & (player_move != 'rock') & (player_move != 'lizard') & (player_move != 'spock'):\n",
    "        player_move = input(\"You may only choose between rock, paper, scissors, lizard or spock:\")\n",
    "    player_move = player_move.lower()\n",
    "    pm = int(all_moves[player_move])\n",
    "    cm = int(all_moves[cpu_move])\n",
    "    if((cm) == (pm)):\n",
    "            print(\"CPU chooses\",cpu_move,\"and the player chooses\",player_move,\". It's a tie!\")\n",
    "    elif((cm -1 == pm) | (cm - 3 == pm)):\n",
    "            cpu_wins += 1\n",
    "            print(\"CPU chooses\",cpu_move,\"and the player chooses\",player_move,\". CPU wins!\")\n",
    "    elif((pm -1 == cm) | (pm - 3 == cm)):\n",
    "            player_wins += 1\n",
    "            print(\"CPU chooses\",cpu_move,\"and the player chooses\",player_move,\". Player wins!\")\n",
    "    elif(((cm == 1) & (pm == top)) | ((cm == 1) & (pm == top - 2))):\n",
    "            cpu_wins += 1\n",
    "            print(\"CPU chooses\",cpu_move,\"and the player chooses\",player_move,\". CPU wins!\")\n",
    "    elif(((pm == 1) & (cm == top)) | ((pm == 1) & (cm == top - 2))):\n",
    "            player_wins += 1\n",
    "            print(\"CPU chooses\",cpu_move,\"and the player chooses\",player_move,\". Player wins!\")\n",
    "    elif((cm == 2) & (pm == top - 1)):\n",
    "             cpu_wins += 1\n",
    "             print(\"CPU chooses\",cpu_move,\"and the player chooses\",player_move,\". CPU wins!\")\n",
    "    elif((pm == 2) & (cm == top - 1)):\n",
    "             player_wins += 1\n",
    "             print(\"CPU chooses\",cpu_move,\"and the player chooses\",player_move,\". Player wins!\")\n",
    "    elif((cm == 3) & (pm == top)):\n",
    "             cpu_wins += 1\n",
    "             print(\"CPU chooses\",cpu_move,\"and the player chooses\",player_move,\". CPU wins!\")\n",
    "    elif((pm == 3) & (cm == top)):\n",
    "             player_wins += 1\n",
    "             print(\"CPU chooses\",cpu_move,\"and the player chooses\",player_move,\". Player wins!\")\n",
    "    else:\n",
    "        print(\"error\")\n",
    "        break\n",
    "if(cpu_wins == rounds_to_win):\n",
    "    print(\"CPU wins\",cpu_wins,\"-\",player_wins)\n",
    "else:\n",
    "    print(\"You win\",player_wins,\"-\",cpu_wins)"
   ]
  },
  {
   "cell_type": "code",
   "execution_count": null,
   "metadata": {},
   "outputs": [],
   "source": []
  },
  {
   "cell_type": "code",
   "execution_count": null,
   "metadata": {},
   "outputs": [],
   "source": []
  }
 ],
 "metadata": {
  "kernelspec": {
   "display_name": "Python 3",
   "language": "python",
   "name": "python3"
  },
  "language_info": {
   "codemirror_mode": {
    "name": "ipython",
    "version": 3
   },
   "file_extension": ".py",
   "mimetype": "text/x-python",
   "name": "python",
   "nbconvert_exporter": "python",
   "pygments_lexer": "ipython3",
   "version": "3.8.3"
  }
 },
 "nbformat": 4,
 "nbformat_minor": 2
}
